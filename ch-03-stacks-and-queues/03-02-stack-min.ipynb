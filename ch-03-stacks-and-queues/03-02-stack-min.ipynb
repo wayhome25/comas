{
 "cells": [
  {
   "cell_type": "markdown",
   "metadata": {},
   "source": [
    "## 3.2 - 스택 Min\n",
    "기본적인 push와 pop기능이 구현된 스택에서 최솟값을 반환하는 min 함수를 추가하려고 한다.   \n",
    "어떻게 설계할 수 있겠는가? push, pop, min 연산은 모두 O(1) 시간에 동착해야 한다. "
   ]
  },
  {
   "cell_type": "code",
   "execution_count": 40,
   "metadata": {},
   "outputs": [],
   "source": [
    "class Stack:\n",
    "    def __init__(self):\n",
    "        self.stack = []\n",
    "        self.min = []\n",
    "    \n",
    "    def peek(self):\n",
    "        return self.stack[-1] if self.stack else None\n",
    "    \n",
    "    def push(self, value):\n",
    "        min_value = min(self.peek(), value) if self.peek() else value\n",
    "        self.min.append(min_value)\n",
    "        \n",
    "        self.stack.append(value)\n",
    "    \n",
    "    def pop(self):\n",
    "        if self.peek():\n",
    "            self.min.pop()\n",
    "            return self.stack.pop()\n",
    "        else:\n",
    "            return None\n",
    "    \n",
    "    def get_min_value(self):\n",
    "        return self.min[-1] if self.peek() else None"
   ]
  },
  {
   "cell_type": "markdown",
   "metadata": {},
   "source": [
    "## 3.2 - 테스트"
   ]
  },
  {
   "cell_type": "code",
   "execution_count": 47,
   "metadata": {
    "scrolled": true
   },
   "outputs": [],
   "source": [
    "import unittest\n",
    "\n",
    "class StackTestCase(unittest.TestCase):\n",
    "    \n",
    "    def setUp(self):\n",
    "        self.stack = Stack()\n",
    "    \n",
    "    def test_min(self):\n",
    "        self.stack.push(3)\n",
    "        self.stack.push(5)\n",
    "        self.stack.push(1)\n",
    "        self.stack.push(10)\n",
    "        self.assertEqual(self.stack.get_min_value(), 1)\n",
    "        \n",
    "        self.stack.pop()\n",
    "        self.stack.pop()\n",
    "        self.assertEqual(self.stack.get_min_value(), 3)\n",
    "        "
   ]
  },
  {
   "cell_type": "code",
   "execution_count": 48,
   "metadata": {},
   "outputs": [
    {
     "name": "stderr",
     "output_type": "stream",
     "text": [
      ".\n",
      "----------------------------------------------------------------------\n",
      "Ran 1 test in 0.001s\n",
      "\n",
      "OK\n"
     ]
    },
    {
     "data": {
      "text/plain": [
       "<unittest.main.TestProgram at 0x10bb6bb38>"
      ]
     },
     "execution_count": 48,
     "metadata": {},
     "output_type": "execute_result"
    }
   ],
   "source": [
    "# 테스트 실행\n",
    "unittest.main(argv=['first-arg-is-ignored'], exit=False)"
   ]
  },
  {
   "cell_type": "markdown",
   "metadata": {},
   "source": [
    "## TODO\n",
    "- [링크드리스트로 구현해보기](https://github.com/wayhome25/ctci-solutions/blob/master/ch-03-stacks-and-queues/02-stack-min.py)"
   ]
  },
  {
   "cell_type": "code",
   "execution_count": null,
   "metadata": {},
   "outputs": [],
   "source": []
  }
 ],
 "metadata": {
  "kernelspec": {
   "display_name": "Python 3",
   "language": "python",
   "name": "python3"
  },
  "language_info": {
   "codemirror_mode": {
    "name": "ipython",
    "version": 3
   },
   "file_extension": ".py",
   "mimetype": "text/x-python",
   "name": "python",
   "nbconvert_exporter": "python",
   "pygments_lexer": "ipython3",
   "version": "3.6.4"
  }
 },
 "nbformat": 4,
 "nbformat_minor": 2
}
